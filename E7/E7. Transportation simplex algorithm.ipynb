{
 "cells": [
  {
   "cell_type": "markdown",
   "id": "48323a56",
   "metadata": {},
   "source": [
    "E7. Transportation simplex algorithm"
   ]
  },
  {
   "cell_type": "markdown",
   "id": "48dcaa6b",
   "metadata": {},
   "source": [
    "Hiba Nejjari"
   ]
  },
  {
   "cell_type": "code",
   "execution_count": 1,
   "id": "9d3428fd",
   "metadata": {},
   "outputs": [],
   "source": [
    "file_path = 'Transportation_Problem.csv'"
   ]
  },
  {
   "cell_type": "code",
   "execution_count": 2,
   "id": "50df433b",
   "metadata": {},
   "outputs": [
    {
     "name": "stdout",
     "output_type": "stream",
     "text": [
      "Data from the CSV file created:\n",
      "        D1  D2  D3  D4  Supply\n",
      "S1       4   3   2   8    50.0\n",
      "S2       6   7   5   3    60.0\n",
      "S3       9   4   5   2    25.0\n",
      "Demand  20  30  40  45     NaN\n"
     ]
    }
   ],
   "source": [
    "import pandas as pd\n",
    "def read_and_display_data(file_path):\n",
    "    #read the CSV file\n",
    "    df = pd.read_csv(file_path, index_col=0)\n",
    "    #display the dataframe\n",
    "    print(\"Data from the CSV file created:\")\n",
    "    print(df)\n",
    "read_and_display_data(file_path)"
   ]
  },
  {
   "cell_type": "code",
   "execution_count": 3,
   "id": "82c693b3",
   "metadata": {},
   "outputs": [
    {
     "name": "stdout",
     "output_type": "stream",
     "text": [
      "\n",
      "Northwest Corner Rule Solution:\n",
      "    D1  D2  D3  D4\n",
      "S1  20  30   0   0\n",
      "S2   0   0  40  20\n",
      "S3   0   0   0  25\n",
      "\n",
      "Minimum Cost Method Solution:\n",
      "      D1    D2    D3    D4\n",
      "S1   0.0  10.0  40.0   0.0\n",
      "S2  20.0  20.0   0.0  20.0\n",
      "S3   0.0   0.0   0.0  25.0\n"
     ]
    }
   ],
   "source": [
    "import numpy as np\n",
    "import heapq\n",
    "\n",
    "def read_transportation_data(file_path):\n",
    "    df = pd.read_csv(file_path, index_col=0)\n",
    "    cost_matrix = df.iloc[:-1, :-1].values.astype(float)\n",
    "    supply = df.iloc[:-1, -1].values.astype(int)\n",
    "    demand = df.iloc[-1, :-1].values.astype(int)\n",
    "    return cost_matrix, supply, demand\n",
    "\n",
    "def northwest_corner(supply, demand):\n",
    "    i, j = 0, 0\n",
    "    solution = np.zeros_like(supply[:, None] + demand)\n",
    "    while i < len(supply) and j < len(demand):\n",
    "        allocation = min(supply[i], demand[j])\n",
    "        solution[i, j] = allocation\n",
    "        supply[i] -= allocation\n",
    "        demand[j] -= allocation\n",
    "        if supply[i] == 0:\n",
    "            i += 1\n",
    "        if demand[j] == 0:\n",
    "            j += 1\n",
    "    return solution\n",
    "\n",
    "def minimum_cost_method(cost_matrix, supply, demand):\n",
    "    remaining_indices = np.indices(cost_matrix.shape)\n",
    "    solution = np.zeros_like(cost_matrix)\n",
    "    while np.any(supply) and np.any(demand):\n",
    "        min_index = divmod(cost_matrix.argmin(), cost_matrix.shape[1])\n",
    "        i, j = min_index\n",
    "        allocation = min(supply[i], demand[j])\n",
    "        solution[i, j] = allocation\n",
    "        supply[i] -= allocation\n",
    "        demand[j] -= allocation\n",
    "        cost_matrix[i, j] = np.inf\n",
    "    return solution\n",
    "\n",
    "def print_solution(solution, method_name):\n",
    "    print(f\"\\n{method_name} Solution:\")\n",
    "    print(pd.DataFrame(solution, columns=[f\"D{j+1}\" for j in range(solution.shape[1])],\n",
    "                       index=[f\"S{i+1}\" for i in range(solution.shape[0])]))\n",
    "\n",
    "def solve_transportation_problem(file_path):\n",
    "    cost_matrix, supply, demand = read_transportation_data(file_path)\n",
    "    methods = {\n",
    "        \"Northwest Corner Rule\": northwest_corner(supply.copy(), demand.copy()),\n",
    "        \"Minimum Cost Method\": minimum_cost_method(cost_matrix.copy(), supply.copy(), demand.copy())\n",
    "    }\n",
    "    for name, solution in methods.items():\n",
    "        print_solution(solution, name)\n",
    "solve_transportation_problem(file_path)\n"
   ]
  },
  {
   "cell_type": "code",
   "execution_count": 4,
   "id": "4f9ed43f",
   "metadata": {},
   "outputs": [
    {
     "name": "stdout",
     "output_type": "stream",
     "text": [
      "\n",
      "Minimum Row Cost Method Solution:\n",
      "      D1    D2    D3    D4\n",
      "S1   0.0  10.0  40.0   0.0\n",
      "S2  15.0   0.0   0.0  45.0\n",
      "S3   5.0  20.0   0.0   0.0\n"
     ]
    }
   ],
   "source": [
    "def minimum_row_cost_method(cost_matrix, supply, demand):\n",
    "    solution = np.zeros_like(cost_matrix)\n",
    "    for i in range(len(supply)):\n",
    "        while supply[i] > 0:\n",
    "            j = np.argmin(cost_matrix[i])\n",
    "            allocation = min(supply[i], demand[j])\n",
    "            solution[i, j] = allocation\n",
    "            supply[i] -= allocation\n",
    "            demand[j] -= allocation\n",
    "            cost_matrix[i, j] = np.inf\n",
    "    return solution\n",
    "\n",
    "def print_solution(solution, method_name):\n",
    "    print(f\"\\n{method_name} Solution:\")\n",
    "    print(pd.DataFrame(solution, columns=[f\"D{j+1}\" for j in range(solution.shape[1])],\n",
    "                       index=[f\"S{i+1}\" for i in range(solution.shape[0])]))\n",
    "\n",
    "def solve_transportation_problem(file_path):\n",
    "    cost_matrix, supply, demand = read_transportation_data(file_path)\n",
    "    print_solution(minimum_row_cost_method(cost_matrix.copy(), supply.copy(), demand.copy()), \"Minimum Row Cost Method\")\n",
    "solve_transportation_problem(file_path)\n"
   ]
  },
  {
   "cell_type": "code",
   "execution_count": 5,
   "id": "e46b8776",
   "metadata": {},
   "outputs": [
    {
     "name": "stdout",
     "output_type": "stream",
     "text": [
      "\n",
      "Vogel's Approximation Method Solution:\n",
      "      D1    D2    D3    D4\n",
      "S1  10.0   0.0  40.0   0.0\n",
      "S2  10.0   5.0   0.0  45.0\n",
      "S3   0.0  25.0   0.0   0.0\n"
     ]
    }
   ],
   "source": [
    "def vogel_approximation_method(cost_matrix, supply, demand):\n",
    "    solution = np.zeros_like(cost_matrix)\n",
    "    costs = cost_matrix.copy()\n",
    "    \n",
    "    while np.any(supply > 0) and np.any(demand > 0):\n",
    "        row_penalties = []\n",
    "        col_penalties = []\n",
    "        \n",
    "        for row in costs:\n",
    "            filtered_row = row[row != np.inf]\n",
    "            if len(filtered_row) > 1:\n",
    "                sorted_row = np.sort(filtered_row)\n",
    "                row_penalties.append(sorted_row[1] - sorted_row[0])\n",
    "            elif len(filtered_row) == 1:\n",
    "                row_penalties.append(0)  # No penalty if only one element\n",
    "            else:\n",
    "                row_penalties.append(-1)  # Indicate depleted row\n",
    "        \n",
    "        for j in range(costs.shape[1]):\n",
    "            filtered_col = costs[:, j][costs[:, j] != np.inf]\n",
    "            if len(filtered_col) > 1:\n",
    "                sorted_col = np.sort(filtered_col)\n",
    "                col_penalties.append(sorted_col[1] - sorted_col[0])\n",
    "            elif len(filtered_col) == 1:\n",
    "                col_penalties.append(0)  # No penalty if only one element\n",
    "            else:\n",
    "                col_penalties.append(-1)  # Indicate depleted column\n",
    "\n",
    "        row_penalties = np.array(row_penalties)\n",
    "        col_penalties = np.array(col_penalties)\n",
    "        \n",
    "        if np.max(row_penalties) >= np.max(col_penalties):\n",
    "            i = np.argmax(row_penalties)\n",
    "            if row_penalties[i] == -1:\n",
    "                break  # Exit if row is depleted\n",
    "            j = np.argmin(costs[i])\n",
    "        else:\n",
    "            j = np.argmax(col_penalties)\n",
    "            if col_penalties[j] == -1:\n",
    "                break  # Exit if column is depleted\n",
    "            i = np.argmin(costs[:, j])\n",
    "        \n",
    "        allocation = min(supply[i], demand[j])\n",
    "        solution[i, j] = allocation\n",
    "        supply[i] -= allocation\n",
    "        demand[j] -= allocation\n",
    "        costs[i, j] = np.inf  # Set to inf to avoid re-allocation\n",
    "\n",
    "    return solution\n",
    "\n",
    "def print_solution(solution, method_name):\n",
    "    print(f\"\\n{method_name} Solution:\")\n",
    "    print(pd.DataFrame(solution, columns=[f\"D{j+1}\" for j in range(solution.shape[1])],\n",
    "                       index=[f\"S{i+1}\" for i in range(solution.shape[0])]))\n",
    "\n",
    "def solve_transportation_problem(file_path):\n",
    "    cost_matrix, supply, demand = read_transportation_data(file_path)\n",
    "    print_solution(vogel_approximation_method(cost_matrix, supply, demand), \"Vogel's Approximation Method\")\n",
    "solve_transportation_problem(file_path)\n"
   ]
  },
  {
   "cell_type": "code",
   "execution_count": null,
   "id": "188907c5",
   "metadata": {},
   "outputs": [],
   "source": []
  }
 ],
 "metadata": {
  "kernelspec": {
   "display_name": "Python 3 (ipykernel)",
   "language": "python",
   "name": "python3"
  },
  "language_info": {
   "codemirror_mode": {
    "name": "ipython",
    "version": 3
   },
   "file_extension": ".py",
   "mimetype": "text/x-python",
   "name": "python",
   "nbconvert_exporter": "python",
   "pygments_lexer": "ipython3",
   "version": "3.11.5"
  }
 },
 "nbformat": 4,
 "nbformat_minor": 5
}
