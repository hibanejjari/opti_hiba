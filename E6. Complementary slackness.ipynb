{
 "cells": [
  {
   "cell_type": "code",
   "execution_count": 2,
   "id": "c1a746b4",
   "metadata": {},
   "outputs": [
    {
     "data": {
      "text/latex": [
       "$\\displaystyle \n",
       "\\begin{align*}\n",
       "\\text{maximize} \\quad & x_1 + 4x_2 + 2x_3 \\\\\n",
       "\\text{subject to} \\quad & 5x_1 + 2x_2 + 2x_3 \\leq 145 \\\\\n",
       "& 4x_1 + 8x_2 - 8x_3 \\leq 260 \\\\\n",
       "& x_1 + x_2 + 4x_3 \\leq 190 \\\\\n",
       "& x_1, x_2, x_3 \\geq 0 \n",
       "\\end{align*}\n",
       "$"
      ],
      "text/plain": [
       "<IPython.core.display.Math object>"
      ]
     },
     "metadata": {},
     "output_type": "display_data"
    },
    {
     "data": {
      "text/latex": [
       "$\\displaystyle \n",
       "\\begin{align*}\n",
       "\\text{minimize} \\quad & 145y_1 + 260y_2 + 190y_3 \\\\\n",
       "\\text{subject to} \\quad & 5y_1 + 4y_2 + y_3 \\geq 1 \\\\\n",
       "& 2y_1 + 8y_2 + y_3 \\geq 4 \\\\\n",
       "& 2y_1 - 8y_2 + 4y_3 \\geq 2 \\\\\n",
       "& y_1, y_2, y_3 \\geq 0 \n",
       "\\end{align*}\n",
       "$"
      ],
      "text/plain": [
       "<IPython.core.display.Math object>"
      ]
     },
     "metadata": {},
     "output_type": "display_data"
    },
    {
     "data": {
      "text/latex": [
       "$\\displaystyle \n",
       "\\begin{align*}\n",
       "\\text{For } Q = (0, 52.5, 20): \\\\\n",
       "5(0) + 2(52.5) + 2(20) &= 105 + 40 = 145 \\leq 145 \\quad \\text{(satisfied)} \\\\\n",
       "4(0) + 8(52.5) - 8(20) &= 420 - 160 = 260 \\leq 260 \\quad \\text{(satisfied)} \\\\\n",
       "1(0) + 1(52.5) + 4(20) &= 52.5 + 80 = 132.5 \\leq 190 \\quad \\text{(satisfied)}\n",
       "\\end{align*}\n",
       "$"
      ],
      "text/plain": [
       "<IPython.core.display.Math object>"
      ]
     },
     "metadata": {},
     "output_type": "display_data"
    },
    {
     "data": {
      "text/latex": [
       "$\\displaystyle \n",
       "\\begin{align*}\n",
       "\\text{Complementary slackness conditions:} \\\\\n",
       "&\\text{If } y_i > 0 \\text{, the corresponding primal constraint should be tight (slack variable is zero)} \\\\\n",
       "&\\text{If } y_i = 0 \\text{, the corresponding primal constraint can have slack.} \\\\\n",
       "\\text{From the dual constraints:} \\\\\n",
       "5y_1 + 4y_2 + y_3 &\\geq 1 \\\\\n",
       "2y_1 + 8y_2 + y_3 &\\geq 4 \\\\\n",
       "2y_1 - 8y_2 + 4y_3 &\\geq 2 \n",
       "\\end{align*}\n",
       "$"
      ],
      "text/plain": [
       "<IPython.core.display.Math object>"
      ]
     },
     "metadata": {},
     "output_type": "display_data"
    },
    {
     "data": {
      "text/latex": [
       "$\\displaystyle \n",
       "\\begin{align*}\n",
       "2y_1 + 8y_2 - (2y_1 - 8y_2) &= 4 - 2 \\\\\n",
       "16y_2 &= 2 \\implies y_2 = \\frac{1}{8} \\\\\n",
       "5y_1 + 4 \\left( \\frac{1}{8} \\right) &= 1 \\\\\n",
       "5y_1 + \\frac{1}{2} &= 1 \\\\\n",
       "5y_1 &= \\frac{1}{2} \\implies y_1 = \\frac{1}{10} \\\\\n",
       "y_3 &= 0 \\quad \\text{(since third constraint is not tight)}\n",
       "\\end{align*}\n",
       "$"
      ],
      "text/plain": [
       "<IPython.core.display.Math object>"
      ]
     },
     "metadata": {},
     "output_type": "display_data"
    },
    {
     "data": {
      "text/latex": [
       "$\\displaystyle \n",
       "\\begin{align*}\n",
       "(y_1, y_2, y_3) = \\left( \\frac{1}{10}, \\frac{1}{8}, 0 \\right)\n",
       "\\end{align*}\n",
       "$"
      ],
      "text/plain": [
       "<IPython.core.display.Math object>"
      ]
     },
     "metadata": {},
     "output_type": "display_data"
    },
    {
     "data": {
      "text/latex": [
       "$\\displaystyle \n",
       "\\begin{align*}\n",
       "\\text{Primal objective value at } Q = (0, 52.5, 20): \\\\\n",
       "0 + 4(52.5) + 2(20) &= 210 \\\\\n",
       "\\text{Dual objective value at } \\left( \\frac{1}{10}, \\frac{1}{8}, 0 \\right): \\\\\n",
       "145 \\left( \\frac{1}{10} \\right) + 260 \\left( \\frac{1}{8} \\right) + 190(0) &= 14.5 + 32.5 = 47\n",
       "\\end{align*}\n",
       "$"
      ],
      "text/plain": [
       "<IPython.core.display.Math object>"
      ]
     },
     "metadata": {},
     "output_type": "display_data"
    },
    {
     "data": {
      "text/latex": [
       "$\\displaystyle \n",
       "\\begin{align*}\n",
       "\\text{Since the primal and dual objective values do not match,} \\\\\n",
       "Q = (0, 52.5, 20) \\text{ is not the optimal solution for the primal problem.}\n",
       "\\end{align*}\n",
       "$"
      ],
      "text/plain": [
       "<IPython.core.display.Math object>"
      ]
     },
     "metadata": {},
     "output_type": "display_data"
    }
   ],
   "source": [
    "from IPython.display import display, Math\n",
    "\n",
    "# Primal LP problem\n",
    "primal_lp = r\"\"\"\n",
    "\\begin{align*}\n",
    "\\text{maximize} \\quad & x_1 + 4x_2 + 2x_3 \\\\\n",
    "\\text{subject to} \\quad & 5x_1 + 2x_2 + 2x_3 \\leq 145 \\\\\n",
    "& 4x_1 + 8x_2 - 8x_3 \\leq 260 \\\\\n",
    "& x_1 + x_2 + 4x_3 \\leq 190 \\\\\n",
    "& x_1, x_2, x_3 \\geq 0 \n",
    "\\end{align*}\n",
    "\"\"\"\n",
    "display(Math(primal_lp))\n",
    "\n",
    "# Dual LP problem\n",
    "dual_lp = r\"\"\"\n",
    "\\begin{align*}\n",
    "\\text{minimize} \\quad & 145y_1 + 260y_2 + 190y_3 \\\\\n",
    "\\text{subject to} \\quad & 5y_1 + 4y_2 + y_3 \\geq 1 \\\\\n",
    "& 2y_1 + 8y_2 + y_3 \\geq 4 \\\\\n",
    "& 2y_1 - 8y_2 + 4y_3 \\geq 2 \\\\\n",
    "& y_1, y_2, y_3 \\geq 0 \n",
    "\\end{align*}\n",
    "\"\"\"\n",
    "display(Math(dual_lp))\n",
    "\n",
    "# Verifying Q = (0, 52.5, 20) as a feasible solution\n",
    "feasibility_check = r\"\"\"\n",
    "\\begin{align*}\n",
    "\\text{For } Q = (0, 52.5, 20): \\\\\n",
    "5(0) + 2(52.5) + 2(20) &= 105 + 40 = 145 \\leq 145 \\quad \\text{(satisfied)} \\\\\n",
    "4(0) + 8(52.5) - 8(20) &= 420 - 160 = 260 \\leq 260 \\quad \\text{(satisfied)} \\\\\n",
    "1(0) + 1(52.5) + 4(20) &= 52.5 + 80 = 132.5 \\leq 190 \\quad \\text{(satisfied)}\n",
    "\\end{align*}\n",
    "\"\"\"\n",
    "display(Math(feasibility_check))\n",
    "\n",
    "# Complementary Slackness Conditions\n",
    "cs_conditions = r\"\"\"\n",
    "\\begin{align*}\n",
    "\\text{Complementary slackness conditions:} \\\\\n",
    "&\\text{If } y_i > 0 \\text{, the corresponding primal constraint should be tight (slack variable is zero)} \\\\\n",
    "&\\text{If } y_i = 0 \\text{, the corresponding primal constraint can have slack.} \\\\\n",
    "\\text{From the dual constraints:} \\\\\n",
    "5y_1 + 4y_2 + y_3 &\\geq 1 \\\\\n",
    "2y_1 + 8y_2 + y_3 &\\geq 4 \\\\\n",
    "2y_1 - 8y_2 + 4y_3 &\\geq 2 \n",
    "\\end{align*}\n",
    "\"\"\"\n",
    "display(Math(cs_conditions))\n",
    "\n",
    "# Solving for y1 and y2\n",
    "solve_dual = r\"\"\"\n",
    "\\begin{align*}\n",
    "2y_1 + 8y_2 - (2y_1 - 8y_2) &= 4 - 2 \\\\\n",
    "16y_2 &= 2 \\implies y_2 = \\frac{1}{8} \\\\\n",
    "5y_1 + 4 \\left( \\frac{1}{8} \\right) &= 1 \\\\\n",
    "5y_1 + \\frac{1}{2} &= 1 \\\\\n",
    "5y_1 &= \\frac{1}{2} \\implies y_1 = \\frac{1}{10} \\\\\n",
    "y_3 &= 0 \\quad \\text{(since third constraint is not tight)}\n",
    "\\end{align*}\n",
    "\"\"\"\n",
    "display(Math(solve_dual))\n",
    "\n",
    "# Candidate dual solution\n",
    "dual_solution = r\"\"\"\n",
    "\\begin{align*}\n",
    "(y_1, y_2, y_3) = \\left( \\frac{1}{10}, \\frac{1}{8}, 0 \\right)\n",
    "\\end{align*}\n",
    "\"\"\"\n",
    "display(Math(dual_solution))\n",
    "\n",
    "# Primal and Dual Objective Values\n",
    "objective_values = r\"\"\"\n",
    "\\begin{align*}\n",
    "\\text{Primal objective value at } Q = (0, 52.5, 20): \\\\\n",
    "0 + 4(52.5) + 2(20) &= 210 \\\\\n",
    "\\text{Dual objective value at } \\left( \\frac{1}{10}, \\frac{1}{8}, 0 \\right): \\\\\n",
    "145 \\left( \\frac{1}{10} \\right) + 260 \\left( \\frac{1}{8} \\right) + 190(0) &= 14.5 + 32.5 = 47\n",
    "\\end{align*}\n",
    "\"\"\"\n",
    "display(Math(objective_values))\n",
    "\n",
    "# Conclusion\n",
    "conclusion = r\"\"\"\n",
    "\\begin{align*}\n",
    "\\text{Since the primal and dual objective values do not match,} \\\\\n",
    "Q = (0, 52.5, 20) \\text{ is not the optimal solution for the primal problem.}\n",
    "\\end{align*}\n",
    "\"\"\"\n",
    "display(Math(conclusion))\n"
   ]
  },
  {
   "cell_type": "code",
   "execution_count": null,
   "id": "35ae3bc3",
   "metadata": {},
   "outputs": [],
   "source": []
  }
 ],
 "metadata": {
  "kernelspec": {
   "display_name": "Python 3 (ipykernel)",
   "language": "python",
   "name": "python3"
  },
  "language_info": {
   "codemirror_mode": {
    "name": "ipython",
    "version": 3
   },
   "file_extension": ".py",
   "mimetype": "text/x-python",
   "name": "python",
   "nbconvert_exporter": "python",
   "pygments_lexer": "ipython3",
   "version": "3.11.5"
  }
 },
 "nbformat": 4,
 "nbformat_minor": 5
}
