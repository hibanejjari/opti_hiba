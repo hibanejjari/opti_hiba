{
 "cells": [
  {
   "cell_type": "code",
   "execution_count": 1,
   "id": "57e270ed",
   "metadata": {},
   "outputs": [
    {
     "name": "stdout",
     "output_type": "stream",
     "text": [
      "Output 1:\n",
      "[ 2 1 ] [ 1 2 ] \n",
      "Output 2:\n",
      "There is no such subset\n"
     ]
    }
   ],
   "source": [
    "# Print all subsets if there is at least one subset of set[]\n",
    "# with a sum equal to the given sum\n",
    "flag = False\n",
    "\n",
    "def print_subset_sum(i, n, _set, target_sum, subset):\n",
    "\tglobal flag\n",
    "\t# If targetSum is zero, then there exists a subset\n",
    "\tif target_sum == 0:\n",
    "\t\t# Prints valid subset\n",
    "\t\tflag = True\n",
    "\t\tprint(\"[\", end=\" \")\n",
    "\t\tfor element in subset:\n",
    "\t\t\tprint(element, end=\" \")\n",
    "\t\tprint(\"]\", end=\" \")\n",
    "\t\treturn\n",
    "\n",
    "\tif i == n:\n",
    "\t\t# Return if we have reached the end of the array\n",
    "\t\treturn\n",
    "\n",
    "\t# Not considering the current element\n",
    "\tprint_subset_sum(i + 1, n, _set, target_sum, subset)\n",
    "\n",
    "\t# Consider the current element if it is less than or equal to targetSum\n",
    "\tif _set[i] <= target_sum:\n",
    "\t\t# Push the current element into the subset\n",
    "\t\tsubset.append(_set[i])\n",
    "\n",
    "\t\t# Recursive call for considering the current element\n",
    "\t\tprint_subset_sum(i + 1, n, _set, target_sum - _set[i], subset)\n",
    "\n",
    "\t\t# Remove the last element after recursive call to restore subset's original configuration\n",
    "\t\tsubset.pop()\n",
    "\n",
    "# Driver code\n",
    "if __name__ == \"__main__\":\n",
    "\t# Test case 1\n",
    "\tset_1 = [1, 2, 1]\n",
    "\tsum_1 = 3\n",
    "\tn_1 = len(set_1)\n",
    "\tsubset_1 = []\n",
    "\tprint(\"Output 1:\")\n",
    "\tprint_subset_sum(0, n_1, set_1, sum_1, subset_1)\n",
    "\tprint()\n",
    "\tflag = False\n",
    "\n",
    "\t# Test case 2\n",
    "\tset_2 = [3, 34, 4, 12, 5, 2]\n",
    "\tsum_2 = 30\n",
    "\tn_2 = len(set_2)\n",
    "\tsubset_2 = []\n",
    "\tprint(\"Output 2:\")\n",
    "\tprint_subset_sum(0, n_2, set_2, sum_2, subset_2)\n",
    "\tif not flag:\n",
    "\t\tprint(\"There is no such subset\")"
   ]
  },
  {
   "cell_type": "code",
   "execution_count": null,
   "id": "7c6abe4c",
   "metadata": {},
   "outputs": [],
   "source": []
  }
 ],
 "metadata": {
  "kernelspec": {
   "display_name": "Python 3 (ipykernel)",
   "language": "python",
   "name": "python3"
  },
  "language_info": {
   "codemirror_mode": {
    "name": "ipython",
    "version": 3
   },
   "file_extension": ".py",
   "mimetype": "text/x-python",
   "name": "python",
   "nbconvert_exporter": "python",
   "pygments_lexer": "ipython3",
   "version": "3.11.5"
  }
 },
 "nbformat": 4,
 "nbformat_minor": 5
}
